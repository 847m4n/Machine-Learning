{
  "nbformat": 4,
  "nbformat_minor": 0,
  "metadata": {
    "colab": {
      "name": "FakeNewsClassifier.ipynb",
      "provenance": []
    },
    "kernelspec": {
      "display_name": "Python 3",
      "name": "python3"
    }
  },
  "cells": [
    {
      "cell_type": "markdown",
      "metadata": {
        "id": "RSXQ0A-SVXjo"
      },
      "source": [
        "Importing Libraries"
      ]
    },
    {
      "cell_type": "code",
      "metadata": {
        "id": "U27_AfwXjfMH"
      },
      "source": [
        "import numpy as np\r\n",
        "import pandas as pd\r\n",
        "import itertools\r\n",
        "from sklearn.model_selection import train_test_split\r\n",
        "from sklearn.feature_extraction.text import TfidfVectorizer\r\n",
        "from sklearn.linear_model import PassiveAggressiveClassifier\r\n",
        "from sklearn.metrics import accuracy_score, confusion_matrix"
      ],
      "execution_count": null,
      "outputs": []
    },
    {
      "cell_type": "markdown",
      "metadata": {
        "id": "BvSvKbH3Vmav"
      },
      "source": [
        "Uploading and Unzipping Dataset"
      ]
    },
    {
      "cell_type": "code",
      "metadata": {
        "colab": {
          "base_uri": "https://localhost:8080/"
        },
        "id": "O1_kc7HBeslm",
        "outputId": "d304c42c-573e-4a2e-eef9-6cadeafddc89"
      },
      "source": [
        "!unzip \"/content/drive/MyDrive/datasetfakenews.csv.zip\" -d \"/content/drive/My Drive/\""
      ],
      "execution_count": null,
      "outputs": [
        {
          "output_type": "stream",
          "text": [
            "Archive:  /content/drive/MyDrive/datasetfakenews.csv.zip\n",
            "replace /content/drive/My Drive/train.csv? [y]es, [n]o, [A]ll, [N]one, [r]ename: y\n",
            "  inflating: /content/drive/My Drive/train.csv  \n"
          ],
          "name": "stdout"
        }
      ]
    },
    {
      "cell_type": "code",
      "metadata": {
        "id": "lnYo4jhwVvpF"
      },
      "source": [
        ""
      ],
      "execution_count": null,
      "outputs": []
    },
    {
      "cell_type": "markdown",
      "metadata": {
        "id": "xgkKuCF6VWBZ"
      },
      "source": [
        "Reading and Understanding dataset"
      ]
    },
    {
      "cell_type": "code",
      "metadata": {
        "id": "k3juEePFmDNN"
      },
      "source": [
        "#Reading dataset and storing it\r\n",
        "df=pd.read_csv('/content/drive/MyDrive/train.csv')\r\n"
      ],
      "execution_count": null,
      "outputs": []
    },
    {
      "cell_type": "code",
      "metadata": {
        "colab": {
          "base_uri": "https://localhost:8080/"
        },
        "id": "wmeszg76VJVe",
        "outputId": "f44060e4-2a35-428e-b774-33eb1b30c107"
      },
      "source": [
        "#Checking the shape of our datset\r\n",
        "print(df.shape)"
      ],
      "execution_count": null,
      "outputs": [
        {
          "output_type": "stream",
          "text": [
            "(20800, 5)\n"
          ],
          "name": "stdout"
        }
      ]
    },
    {
      "cell_type": "code",
      "metadata": {
        "colab": {
          "base_uri": "https://localhost:8080/",
          "height": 198
        },
        "id": "3Jsv8_9cVATt",
        "outputId": "cc05b618-e23e-44b5-b097-e527f2c07879"
      },
      "source": [
        "#Checking first five rows and all columns\r\n",
        "df.head()"
      ],
      "execution_count": null,
      "outputs": [
        {
          "output_type": "execute_result",
          "data": {
            "text/html": [
              "<div>\n",
              "<style scoped>\n",
              "    .dataframe tbody tr th:only-of-type {\n",
              "        vertical-align: middle;\n",
              "    }\n",
              "\n",
              "    .dataframe tbody tr th {\n",
              "        vertical-align: top;\n",
              "    }\n",
              "\n",
              "    .dataframe thead th {\n",
              "        text-align: right;\n",
              "    }\n",
              "</style>\n",
              "<table border=\"1\" class=\"dataframe\">\n",
              "  <thead>\n",
              "    <tr style=\"text-align: right;\">\n",
              "      <th></th>\n",
              "      <th>id</th>\n",
              "      <th>title</th>\n",
              "      <th>author</th>\n",
              "      <th>text</th>\n",
              "      <th>label</th>\n",
              "    </tr>\n",
              "  </thead>\n",
              "  <tbody>\n",
              "    <tr>\n",
              "      <th>0</th>\n",
              "      <td>0</td>\n",
              "      <td>House Dem Aide: We Didn’t Even See Comey’s Let...</td>\n",
              "      <td>Darrell Lucus</td>\n",
              "      <td>House Dem Aide: We Didn’t Even See Comey’s Let...</td>\n",
              "      <td>1</td>\n",
              "    </tr>\n",
              "    <tr>\n",
              "      <th>1</th>\n",
              "      <td>1</td>\n",
              "      <td>FLYNN: Hillary Clinton, Big Woman on Campus - ...</td>\n",
              "      <td>Daniel J. Flynn</td>\n",
              "      <td>Ever get the feeling your life circles the rou...</td>\n",
              "      <td>0</td>\n",
              "    </tr>\n",
              "    <tr>\n",
              "      <th>2</th>\n",
              "      <td>2</td>\n",
              "      <td>Why the Truth Might Get You Fired</td>\n",
              "      <td>Consortiumnews.com</td>\n",
              "      <td>Why the Truth Might Get You Fired October 29, ...</td>\n",
              "      <td>1</td>\n",
              "    </tr>\n",
              "    <tr>\n",
              "      <th>3</th>\n",
              "      <td>3</td>\n",
              "      <td>15 Civilians Killed In Single US Airstrike Hav...</td>\n",
              "      <td>Jessica Purkiss</td>\n",
              "      <td>Videos 15 Civilians Killed In Single US Airstr...</td>\n",
              "      <td>1</td>\n",
              "    </tr>\n",
              "    <tr>\n",
              "      <th>4</th>\n",
              "      <td>4</td>\n",
              "      <td>Iranian woman jailed for fictional unpublished...</td>\n",
              "      <td>Howard Portnoy</td>\n",
              "      <td>Print \\nAn Iranian woman has been sentenced to...</td>\n",
              "      <td>1</td>\n",
              "    </tr>\n",
              "  </tbody>\n",
              "</table>\n",
              "</div>"
            ],
            "text/plain": [
              "   id  ... label\n",
              "0   0  ...     1\n",
              "1   1  ...     0\n",
              "2   2  ...     1\n",
              "3   3  ...     1\n",
              "4   4  ...     1\n",
              "\n",
              "[5 rows x 5 columns]"
            ]
          },
          "metadata": {
            "tags": []
          },
          "execution_count": 6
        }
      ]
    },
    {
      "cell_type": "markdown",
      "metadata": {
        "id": "rbm7iIGxV8PM"
      },
      "source": [
        "Pre-processing Dataset"
      ]
    },
    {
      "cell_type": "code",
      "metadata": {
        "id": "LExpHoPxIKfr",
        "colab": {
          "base_uri": "https://localhost:8080/",
          "height": 948
        },
        "outputId": "4b158e2e-f4b5-4c88-b1a4-be332d5add41"
      },
      "source": [
        "#Selecting Columns that we need \r\n",
        "df=df[['title','text','label']]\r\n",
        "df.head(30)"
      ],
      "execution_count": null,
      "outputs": [
        {
          "output_type": "execute_result",
          "data": {
            "text/html": [
              "<div>\n",
              "<style scoped>\n",
              "    .dataframe tbody tr th:only-of-type {\n",
              "        vertical-align: middle;\n",
              "    }\n",
              "\n",
              "    .dataframe tbody tr th {\n",
              "        vertical-align: top;\n",
              "    }\n",
              "\n",
              "    .dataframe thead th {\n",
              "        text-align: right;\n",
              "    }\n",
              "</style>\n",
              "<table border=\"1\" class=\"dataframe\">\n",
              "  <thead>\n",
              "    <tr style=\"text-align: right;\">\n",
              "      <th></th>\n",
              "      <th>title</th>\n",
              "      <th>text</th>\n",
              "      <th>label</th>\n",
              "    </tr>\n",
              "  </thead>\n",
              "  <tbody>\n",
              "    <tr>\n",
              "      <th>0</th>\n",
              "      <td>House Dem Aide: We Didn’t Even See Comey’s Let...</td>\n",
              "      <td>House Dem Aide: We Didn’t Even See Comey’s Let...</td>\n",
              "      <td>1</td>\n",
              "    </tr>\n",
              "    <tr>\n",
              "      <th>1</th>\n",
              "      <td>FLYNN: Hillary Clinton, Big Woman on Campus - ...</td>\n",
              "      <td>Ever get the feeling your life circles the rou...</td>\n",
              "      <td>0</td>\n",
              "    </tr>\n",
              "    <tr>\n",
              "      <th>2</th>\n",
              "      <td>Why the Truth Might Get You Fired</td>\n",
              "      <td>Why the Truth Might Get You Fired October 29, ...</td>\n",
              "      <td>1</td>\n",
              "    </tr>\n",
              "    <tr>\n",
              "      <th>3</th>\n",
              "      <td>15 Civilians Killed In Single US Airstrike Hav...</td>\n",
              "      <td>Videos 15 Civilians Killed In Single US Airstr...</td>\n",
              "      <td>1</td>\n",
              "    </tr>\n",
              "    <tr>\n",
              "      <th>4</th>\n",
              "      <td>Iranian woman jailed for fictional unpublished...</td>\n",
              "      <td>Print \\nAn Iranian woman has been sentenced to...</td>\n",
              "      <td>1</td>\n",
              "    </tr>\n",
              "    <tr>\n",
              "      <th>5</th>\n",
              "      <td>Jackie Mason: Hollywood Would Love Trump if He...</td>\n",
              "      <td>In these trying times, Jackie Mason is the Voi...</td>\n",
              "      <td>0</td>\n",
              "    </tr>\n",
              "    <tr>\n",
              "      <th>6</th>\n",
              "      <td>Life: Life Of Luxury: Elton John’s 6 Favorite ...</td>\n",
              "      <td>Ever wonder how Britain’s most iconic pop pian...</td>\n",
              "      <td>1</td>\n",
              "    </tr>\n",
              "    <tr>\n",
              "      <th>7</th>\n",
              "      <td>Benoît Hamon Wins French Socialist Party’s Pre...</td>\n",
              "      <td>PARIS  —   France chose an idealistic, traditi...</td>\n",
              "      <td>0</td>\n",
              "    </tr>\n",
              "    <tr>\n",
              "      <th>8</th>\n",
              "      <td>Excerpts From a Draft Script for Donald Trump’...</td>\n",
              "      <td>Donald J. Trump is scheduled to make a highly ...</td>\n",
              "      <td>0</td>\n",
              "    </tr>\n",
              "    <tr>\n",
              "      <th>9</th>\n",
              "      <td>A Back-Channel Plan for Ukraine and Russia, Co...</td>\n",
              "      <td>A week before Michael T. Flynn resigned as nat...</td>\n",
              "      <td>0</td>\n",
              "    </tr>\n",
              "    <tr>\n",
              "      <th>10</th>\n",
              "      <td>Obama’s Organizing for Action Partners with So...</td>\n",
              "      <td>Organizing for Action, the activist group that...</td>\n",
              "      <td>0</td>\n",
              "    </tr>\n",
              "    <tr>\n",
              "      <th>11</th>\n",
              "      <td>BBC Comedy Sketch \"Real Housewives of ISIS\" Ca...</td>\n",
              "      <td>The BBC produced spoof on the “Real Housewives...</td>\n",
              "      <td>0</td>\n",
              "    </tr>\n",
              "    <tr>\n",
              "      <th>12</th>\n",
              "      <td>Russian Researchers Discover Secret Nazi Milit...</td>\n",
              "      <td>The mystery surrounding The Third Reich and Na...</td>\n",
              "      <td>1</td>\n",
              "    </tr>\n",
              "    <tr>\n",
              "      <th>13</th>\n",
              "      <td>US Officials See No Link Between Trump and Russia</td>\n",
              "      <td>Clinton Campaign Demands FBI Affirm Trump's Ru...</td>\n",
              "      <td>1</td>\n",
              "    </tr>\n",
              "    <tr>\n",
              "      <th>14</th>\n",
              "      <td>Re: Yes, There Are Paid Government Trolls On S...</td>\n",
              "      <td>Yes, There Are Paid Government Trolls On Socia...</td>\n",
              "      <td>1</td>\n",
              "    </tr>\n",
              "    <tr>\n",
              "      <th>15</th>\n",
              "      <td>In Major League Soccer, Argentines Find a Home...</td>\n",
              "      <td>Guillermo Barros Schelotto was not the first A...</td>\n",
              "      <td>0</td>\n",
              "    </tr>\n",
              "    <tr>\n",
              "      <th>16</th>\n",
              "      <td>Wells Fargo Chief Abruptly Steps Down - The Ne...</td>\n",
              "      <td>The scandal engulfing Wells Fargo toppled its ...</td>\n",
              "      <td>0</td>\n",
              "    </tr>\n",
              "    <tr>\n",
              "      <th>17</th>\n",
              "      <td>Anonymous Donor Pays $2.5 Million To Release E...</td>\n",
              "      <td>A Caddo Nation tribal leader has just been fre...</td>\n",
              "      <td>1</td>\n",
              "    </tr>\n",
              "    <tr>\n",
              "      <th>18</th>\n",
              "      <td>FBI Closes In On Hillary!</td>\n",
              "      <td>FBI Closes In On Hillary! Posted on Home » Hea...</td>\n",
              "      <td>1</td>\n",
              "    </tr>\n",
              "    <tr>\n",
              "      <th>19</th>\n",
              "      <td>Chuck Todd: ’BuzzFeed Did Donald Trump a Polit...</td>\n",
              "      <td>Wednesday after   Donald Trump’s press confere...</td>\n",
              "      <td>0</td>\n",
              "    </tr>\n",
              "    <tr>\n",
              "      <th>20</th>\n",
              "      <td>News: Hope For The GOP: A Nude Paul Ryan Has J...</td>\n",
              "      <td>Email \\nSince Donald Trump entered the electio...</td>\n",
              "      <td>1</td>\n",
              "    </tr>\n",
              "    <tr>\n",
              "      <th>21</th>\n",
              "      <td>Monica Lewinsky, Clinton Sex Scandal Set for ’...</td>\n",
              "      <td>Screenwriter Ryan Murphy, who has produced the...</td>\n",
              "      <td>0</td>\n",
              "    </tr>\n",
              "    <tr>\n",
              "      <th>22</th>\n",
              "      <td>Rob Reiner: Trump Is ’Mentally Unstable’ - Bre...</td>\n",
              "      <td>Sunday on MSNBC’s “AM Joy,” actor and director...</td>\n",
              "      <td>0</td>\n",
              "    </tr>\n",
              "    <tr>\n",
              "      <th>23</th>\n",
              "      <td>Massachusetts Cop’s Wife Busted for Pinning Fa...</td>\n",
              "      <td>Massachusetts Cop’s Wife Busted for Pinning Fa...</td>\n",
              "      <td>1</td>\n",
              "    </tr>\n",
              "    <tr>\n",
              "      <th>24</th>\n",
              "      <td>Abortion Pill Orders Rise in 7 Latin American ...</td>\n",
              "      <td>Orders for abortion pills by women in seven La...</td>\n",
              "      <td>0</td>\n",
              "    </tr>\n",
              "    <tr>\n",
              "      <th>25</th>\n",
              "      <td>Nukes and the UN: a Historic Treaty to Ban Nuc...</td>\n",
              "      <td>Email \\nIn an historic move the United Nations...</td>\n",
              "      <td>1</td>\n",
              "    </tr>\n",
              "    <tr>\n",
              "      <th>26</th>\n",
              "      <td>EXCLUSIVE: Islamic State Supporters Vow to ‘Sh...</td>\n",
              "      <td>JERUSALEM  —   Islamic State sympathizers and ...</td>\n",
              "      <td>0</td>\n",
              "    </tr>\n",
              "    <tr>\n",
              "      <th>27</th>\n",
              "      <td>Humiliated Hillary Tries To Hide What Camera C...</td>\n",
              "      <td>Humiliated Hillary Tries To Hide What Camera C...</td>\n",
              "      <td>1</td>\n",
              "    </tr>\n",
              "    <tr>\n",
              "      <th>28</th>\n",
              "      <td>Andrea Tantaros of Fox News Claims Retaliation...</td>\n",
              "      <td>Andrea Tantaros, a former Fox News host, charg...</td>\n",
              "      <td>0</td>\n",
              "    </tr>\n",
              "    <tr>\n",
              "      <th>29</th>\n",
              "      <td>How Hillary Clinton Became a Hawk - The New Yo...</td>\n",
              "      <td>Hillary Clinton sat in the hideaway study off ...</td>\n",
              "      <td>0</td>\n",
              "    </tr>\n",
              "  </tbody>\n",
              "</table>\n",
              "</div>"
            ],
            "text/plain": [
              "                                                title  ... label\n",
              "0   House Dem Aide: We Didn’t Even See Comey’s Let...  ...     1\n",
              "1   FLYNN: Hillary Clinton, Big Woman on Campus - ...  ...     0\n",
              "2                   Why the Truth Might Get You Fired  ...     1\n",
              "3   15 Civilians Killed In Single US Airstrike Hav...  ...     1\n",
              "4   Iranian woman jailed for fictional unpublished...  ...     1\n",
              "5   Jackie Mason: Hollywood Would Love Trump if He...  ...     0\n",
              "6   Life: Life Of Luxury: Elton John’s 6 Favorite ...  ...     1\n",
              "7   Benoît Hamon Wins French Socialist Party’s Pre...  ...     0\n",
              "8   Excerpts From a Draft Script for Donald Trump’...  ...     0\n",
              "9   A Back-Channel Plan for Ukraine and Russia, Co...  ...     0\n",
              "10  Obama’s Organizing for Action Partners with So...  ...     0\n",
              "11  BBC Comedy Sketch \"Real Housewives of ISIS\" Ca...  ...     0\n",
              "12  Russian Researchers Discover Secret Nazi Milit...  ...     1\n",
              "13  US Officials See No Link Between Trump and Russia  ...     1\n",
              "14  Re: Yes, There Are Paid Government Trolls On S...  ...     1\n",
              "15  In Major League Soccer, Argentines Find a Home...  ...     0\n",
              "16  Wells Fargo Chief Abruptly Steps Down - The Ne...  ...     0\n",
              "17  Anonymous Donor Pays $2.5 Million To Release E...  ...     1\n",
              "18                          FBI Closes In On Hillary!  ...     1\n",
              "19  Chuck Todd: ’BuzzFeed Did Donald Trump a Polit...  ...     0\n",
              "20  News: Hope For The GOP: A Nude Paul Ryan Has J...  ...     1\n",
              "21  Monica Lewinsky, Clinton Sex Scandal Set for ’...  ...     0\n",
              "22  Rob Reiner: Trump Is ’Mentally Unstable’ - Bre...  ...     0\n",
              "23  Massachusetts Cop’s Wife Busted for Pinning Fa...  ...     1\n",
              "24  Abortion Pill Orders Rise in 7 Latin American ...  ...     0\n",
              "25  Nukes and the UN: a Historic Treaty to Ban Nuc...  ...     1\n",
              "26  EXCLUSIVE: Islamic State Supporters Vow to ‘Sh...  ...     0\n",
              "27  Humiliated Hillary Tries To Hide What Camera C...  ...     1\n",
              "28  Andrea Tantaros of Fox News Claims Retaliation...  ...     0\n",
              "29  How Hillary Clinton Became a Hawk - The New Yo...  ...     0\n",
              "\n",
              "[30 rows x 3 columns]"
            ]
          },
          "metadata": {
            "tags": []
          },
          "execution_count": 8
        }
      ]
    },
    {
      "cell_type": "code",
      "metadata": {
        "colab": {
          "base_uri": "https://localhost:8080/"
        },
        "id": "xH_ixc9l_ClY",
        "outputId": "8652dc1f-b4f6-4d59-d0f7-8eb71fe2cf43"
      },
      "source": [
        "#Checking total Number of Nan(Empty) Values in the entire dataset\r\n",
        "df.isna().sum()"
      ],
      "execution_count": null,
      "outputs": [
        {
          "output_type": "execute_result",
          "data": {
            "text/plain": [
              "title    558\n",
              "text      39\n",
              "label      0\n",
              "dtype: int64"
            ]
          },
          "metadata": {
            "tags": []
          },
          "execution_count": 9
        }
      ]
    },
    {
      "cell_type": "code",
      "metadata": {
        "colab": {
          "base_uri": "https://localhost:8080/"
        },
        "id": "JoK1PQfT_Qxt",
        "outputId": "181611ed-0ad4-4f66-e217-595f386630c0"
      },
      "source": [
        "#Updating Title and filling in spaces for Nan values\r\n",
        "df['title'] = df['title'].fillna('')\r\n",
        "df.isna().sum()"
      ],
      "execution_count": null,
      "outputs": [
        {
          "output_type": "execute_result",
          "data": {
            "text/plain": [
              "title     0\n",
              "text     39\n",
              "label     0\n",
              "dtype: int64"
            ]
          },
          "metadata": {
            "tags": []
          },
          "execution_count": 10
        }
      ]
    },
    {
      "cell_type": "code",
      "metadata": {
        "colab": {
          "base_uri": "https://localhost:8080/",
          "height": 407
        },
        "id": "2XUi6YW8_pyA",
        "outputId": "c68f5ddb-3599-48b5-c659-472ae442338a"
      },
      "source": [
        "df"
      ],
      "execution_count": null,
      "outputs": [
        {
          "output_type": "execute_result",
          "data": {
            "text/html": [
              "<div>\n",
              "<style scoped>\n",
              "    .dataframe tbody tr th:only-of-type {\n",
              "        vertical-align: middle;\n",
              "    }\n",
              "\n",
              "    .dataframe tbody tr th {\n",
              "        vertical-align: top;\n",
              "    }\n",
              "\n",
              "    .dataframe thead th {\n",
              "        text-align: right;\n",
              "    }\n",
              "</style>\n",
              "<table border=\"1\" class=\"dataframe\">\n",
              "  <thead>\n",
              "    <tr style=\"text-align: right;\">\n",
              "      <th></th>\n",
              "      <th>title</th>\n",
              "      <th>text</th>\n",
              "      <th>label</th>\n",
              "    </tr>\n",
              "  </thead>\n",
              "  <tbody>\n",
              "    <tr>\n",
              "      <th>0</th>\n",
              "      <td>House Dem Aide: We Didn’t Even See Comey’s Let...</td>\n",
              "      <td>House Dem Aide: We Didn’t Even See Comey’s Let...</td>\n",
              "      <td>1</td>\n",
              "    </tr>\n",
              "    <tr>\n",
              "      <th>1</th>\n",
              "      <td>FLYNN: Hillary Clinton, Big Woman on Campus - ...</td>\n",
              "      <td>Ever get the feeling your life circles the rou...</td>\n",
              "      <td>0</td>\n",
              "    </tr>\n",
              "    <tr>\n",
              "      <th>2</th>\n",
              "      <td>Why the Truth Might Get You Fired</td>\n",
              "      <td>Why the Truth Might Get You Fired October 29, ...</td>\n",
              "      <td>1</td>\n",
              "    </tr>\n",
              "    <tr>\n",
              "      <th>3</th>\n",
              "      <td>15 Civilians Killed In Single US Airstrike Hav...</td>\n",
              "      <td>Videos 15 Civilians Killed In Single US Airstr...</td>\n",
              "      <td>1</td>\n",
              "    </tr>\n",
              "    <tr>\n",
              "      <th>4</th>\n",
              "      <td>Iranian woman jailed for fictional unpublished...</td>\n",
              "      <td>Print \\nAn Iranian woman has been sentenced to...</td>\n",
              "      <td>1</td>\n",
              "    </tr>\n",
              "    <tr>\n",
              "      <th>...</th>\n",
              "      <td>...</td>\n",
              "      <td>...</td>\n",
              "      <td>...</td>\n",
              "    </tr>\n",
              "    <tr>\n",
              "      <th>20795</th>\n",
              "      <td>Rapper T.I.: Trump a ’Poster Child For White S...</td>\n",
              "      <td>Rapper T. I. unloaded on black celebrities who...</td>\n",
              "      <td>0</td>\n",
              "    </tr>\n",
              "    <tr>\n",
              "      <th>20796</th>\n",
              "      <td>N.F.L. Playoffs: Schedule, Matchups and Odds -...</td>\n",
              "      <td>When the Green Bay Packers lost to the Washing...</td>\n",
              "      <td>0</td>\n",
              "    </tr>\n",
              "    <tr>\n",
              "      <th>20797</th>\n",
              "      <td>Macy’s Is Said to Receive Takeover Approach by...</td>\n",
              "      <td>The Macy’s of today grew from the union of sev...</td>\n",
              "      <td>0</td>\n",
              "    </tr>\n",
              "    <tr>\n",
              "      <th>20798</th>\n",
              "      <td>NATO, Russia To Hold Parallel Exercises In Bal...</td>\n",
              "      <td>NATO, Russia To Hold Parallel Exercises In Bal...</td>\n",
              "      <td>1</td>\n",
              "    </tr>\n",
              "    <tr>\n",
              "      <th>20799</th>\n",
              "      <td>What Keeps the F-35 Alive</td>\n",
              "      <td>David Swanson is an author, activist, journa...</td>\n",
              "      <td>1</td>\n",
              "    </tr>\n",
              "  </tbody>\n",
              "</table>\n",
              "<p>20800 rows × 3 columns</p>\n",
              "</div>"
            ],
            "text/plain": [
              "                                                   title  ... label\n",
              "0      House Dem Aide: We Didn’t Even See Comey’s Let...  ...     1\n",
              "1      FLYNN: Hillary Clinton, Big Woman on Campus - ...  ...     0\n",
              "2                      Why the Truth Might Get You Fired  ...     1\n",
              "3      15 Civilians Killed In Single US Airstrike Hav...  ...     1\n",
              "4      Iranian woman jailed for fictional unpublished...  ...     1\n",
              "...                                                  ...  ...   ...\n",
              "20795  Rapper T.I.: Trump a ’Poster Child For White S...  ...     0\n",
              "20796  N.F.L. Playoffs: Schedule, Matchups and Odds -...  ...     0\n",
              "20797  Macy’s Is Said to Receive Takeover Approach by...  ...     0\n",
              "20798  NATO, Russia To Hold Parallel Exercises In Bal...  ...     1\n",
              "20799                          What Keeps the F-35 Alive  ...     1\n",
              "\n",
              "[20800 rows x 3 columns]"
            ]
          },
          "metadata": {
            "tags": []
          },
          "execution_count": 82
        }
      ]
    },
    {
      "cell_type": "code",
      "metadata": {
        "id": "0zXgdS04KLgE"
      },
      "source": [
        "#Removing Nan values from our dataset\r\n",
        "df = df.dropna(axis=0)"
      ],
      "execution_count": null,
      "outputs": []
    },
    {
      "cell_type": "code",
      "metadata": {
        "colab": {
          "base_uri": "https://localhost:8080/"
        },
        "id": "kLKWddqPKWR1",
        "outputId": "191c4eb0-39ee-46dd-e115-840ea36a79af"
      },
      "source": [
        "df.isna().sum()"
      ],
      "execution_count": null,
      "outputs": [
        {
          "output_type": "execute_result",
          "data": {
            "text/plain": [
              "title    0\n",
              "text     0\n",
              "label    0\n",
              "dtype: int64"
            ]
          },
          "metadata": {
            "tags": []
          },
          "execution_count": 12
        }
      ]
    },
    {
      "cell_type": "code",
      "metadata": {
        "colab": {
          "base_uri": "https://localhost:8080/"
        },
        "id": "GyOdaNVKmN3I",
        "outputId": "1503c3ac-e358-4ae8-8de6-94d60ccede2b"
      },
      "source": [
        "#Rechecking shape\r\n",
        "print(df.shape)"
      ],
      "execution_count": null,
      "outputs": [
        {
          "output_type": "stream",
          "text": [
            "(20761, 3)\n"
          ],
          "name": "stdout"
        }
      ]
    },
    {
      "cell_type": "code",
      "metadata": {
        "colab": {
          "base_uri": "https://localhost:8080/",
          "height": 648
        },
        "id": "UKgv_eu2IlQ_",
        "outputId": "6ee5685d-84b5-4b7b-b4ef-896a3a906be3"
      },
      "source": [
        "#Taking a look at the first 20 data in our dataset\r\n",
        "df.head(20)"
      ],
      "execution_count": null,
      "outputs": [
        {
          "output_type": "execute_result",
          "data": {
            "text/html": [
              "<div>\n",
              "<style scoped>\n",
              "    .dataframe tbody tr th:only-of-type {\n",
              "        vertical-align: middle;\n",
              "    }\n",
              "\n",
              "    .dataframe tbody tr th {\n",
              "        vertical-align: top;\n",
              "    }\n",
              "\n",
              "    .dataframe thead th {\n",
              "        text-align: right;\n",
              "    }\n",
              "</style>\n",
              "<table border=\"1\" class=\"dataframe\">\n",
              "  <thead>\n",
              "    <tr style=\"text-align: right;\">\n",
              "      <th></th>\n",
              "      <th>title</th>\n",
              "      <th>text</th>\n",
              "      <th>label</th>\n",
              "    </tr>\n",
              "  </thead>\n",
              "  <tbody>\n",
              "    <tr>\n",
              "      <th>0</th>\n",
              "      <td>House Dem Aide: We Didn’t Even See Comey’s Let...</td>\n",
              "      <td>House Dem Aide: We Didn’t Even See Comey’s Let...</td>\n",
              "      <td>1</td>\n",
              "    </tr>\n",
              "    <tr>\n",
              "      <th>1</th>\n",
              "      <td>FLYNN: Hillary Clinton, Big Woman on Campus - ...</td>\n",
              "      <td>Ever get the feeling your life circles the rou...</td>\n",
              "      <td>0</td>\n",
              "    </tr>\n",
              "    <tr>\n",
              "      <th>2</th>\n",
              "      <td>Why the Truth Might Get You Fired</td>\n",
              "      <td>Why the Truth Might Get You Fired October 29, ...</td>\n",
              "      <td>1</td>\n",
              "    </tr>\n",
              "    <tr>\n",
              "      <th>3</th>\n",
              "      <td>15 Civilians Killed In Single US Airstrike Hav...</td>\n",
              "      <td>Videos 15 Civilians Killed In Single US Airstr...</td>\n",
              "      <td>1</td>\n",
              "    </tr>\n",
              "    <tr>\n",
              "      <th>4</th>\n",
              "      <td>Iranian woman jailed for fictional unpublished...</td>\n",
              "      <td>Print \\nAn Iranian woman has been sentenced to...</td>\n",
              "      <td>1</td>\n",
              "    </tr>\n",
              "    <tr>\n",
              "      <th>5</th>\n",
              "      <td>Jackie Mason: Hollywood Would Love Trump if He...</td>\n",
              "      <td>In these trying times, Jackie Mason is the Voi...</td>\n",
              "      <td>0</td>\n",
              "    </tr>\n",
              "    <tr>\n",
              "      <th>6</th>\n",
              "      <td>Life: Life Of Luxury: Elton John’s 6 Favorite ...</td>\n",
              "      <td>Ever wonder how Britain’s most iconic pop pian...</td>\n",
              "      <td>1</td>\n",
              "    </tr>\n",
              "    <tr>\n",
              "      <th>7</th>\n",
              "      <td>Benoît Hamon Wins French Socialist Party’s Pre...</td>\n",
              "      <td>PARIS  —   France chose an idealistic, traditi...</td>\n",
              "      <td>0</td>\n",
              "    </tr>\n",
              "    <tr>\n",
              "      <th>8</th>\n",
              "      <td>Excerpts From a Draft Script for Donald Trump’...</td>\n",
              "      <td>Donald J. Trump is scheduled to make a highly ...</td>\n",
              "      <td>0</td>\n",
              "    </tr>\n",
              "    <tr>\n",
              "      <th>9</th>\n",
              "      <td>A Back-Channel Plan for Ukraine and Russia, Co...</td>\n",
              "      <td>A week before Michael T. Flynn resigned as nat...</td>\n",
              "      <td>0</td>\n",
              "    </tr>\n",
              "    <tr>\n",
              "      <th>10</th>\n",
              "      <td>Obama’s Organizing for Action Partners with So...</td>\n",
              "      <td>Organizing for Action, the activist group that...</td>\n",
              "      <td>0</td>\n",
              "    </tr>\n",
              "    <tr>\n",
              "      <th>11</th>\n",
              "      <td>BBC Comedy Sketch \"Real Housewives of ISIS\" Ca...</td>\n",
              "      <td>The BBC produced spoof on the “Real Housewives...</td>\n",
              "      <td>0</td>\n",
              "    </tr>\n",
              "    <tr>\n",
              "      <th>12</th>\n",
              "      <td>Russian Researchers Discover Secret Nazi Milit...</td>\n",
              "      <td>The mystery surrounding The Third Reich and Na...</td>\n",
              "      <td>1</td>\n",
              "    </tr>\n",
              "    <tr>\n",
              "      <th>13</th>\n",
              "      <td>US Officials See No Link Between Trump and Russia</td>\n",
              "      <td>Clinton Campaign Demands FBI Affirm Trump's Ru...</td>\n",
              "      <td>1</td>\n",
              "    </tr>\n",
              "    <tr>\n",
              "      <th>14</th>\n",
              "      <td>Re: Yes, There Are Paid Government Trolls On S...</td>\n",
              "      <td>Yes, There Are Paid Government Trolls On Socia...</td>\n",
              "      <td>1</td>\n",
              "    </tr>\n",
              "    <tr>\n",
              "      <th>15</th>\n",
              "      <td>In Major League Soccer, Argentines Find a Home...</td>\n",
              "      <td>Guillermo Barros Schelotto was not the first A...</td>\n",
              "      <td>0</td>\n",
              "    </tr>\n",
              "    <tr>\n",
              "      <th>16</th>\n",
              "      <td>Wells Fargo Chief Abruptly Steps Down - The Ne...</td>\n",
              "      <td>The scandal engulfing Wells Fargo toppled its ...</td>\n",
              "      <td>0</td>\n",
              "    </tr>\n",
              "    <tr>\n",
              "      <th>17</th>\n",
              "      <td>Anonymous Donor Pays $2.5 Million To Release E...</td>\n",
              "      <td>A Caddo Nation tribal leader has just been fre...</td>\n",
              "      <td>1</td>\n",
              "    </tr>\n",
              "    <tr>\n",
              "      <th>18</th>\n",
              "      <td>FBI Closes In On Hillary!</td>\n",
              "      <td>FBI Closes In On Hillary! Posted on Home » Hea...</td>\n",
              "      <td>1</td>\n",
              "    </tr>\n",
              "    <tr>\n",
              "      <th>19</th>\n",
              "      <td>Chuck Todd: ’BuzzFeed Did Donald Trump a Polit...</td>\n",
              "      <td>Wednesday after   Donald Trump’s press confere...</td>\n",
              "      <td>0</td>\n",
              "    </tr>\n",
              "  </tbody>\n",
              "</table>\n",
              "</div>"
            ],
            "text/plain": [
              "                                                title  ... label\n",
              "0   House Dem Aide: We Didn’t Even See Comey’s Let...  ...     1\n",
              "1   FLYNN: Hillary Clinton, Big Woman on Campus - ...  ...     0\n",
              "2                   Why the Truth Might Get You Fired  ...     1\n",
              "3   15 Civilians Killed In Single US Airstrike Hav...  ...     1\n",
              "4   Iranian woman jailed for fictional unpublished...  ...     1\n",
              "5   Jackie Mason: Hollywood Would Love Trump if He...  ...     0\n",
              "6   Life: Life Of Luxury: Elton John’s 6 Favorite ...  ...     1\n",
              "7   Benoît Hamon Wins French Socialist Party’s Pre...  ...     0\n",
              "8   Excerpts From a Draft Script for Donald Trump’...  ...     0\n",
              "9   A Back-Channel Plan for Ukraine and Russia, Co...  ...     0\n",
              "10  Obama’s Organizing for Action Partners with So...  ...     0\n",
              "11  BBC Comedy Sketch \"Real Housewives of ISIS\" Ca...  ...     0\n",
              "12  Russian Researchers Discover Secret Nazi Milit...  ...     1\n",
              "13  US Officials See No Link Between Trump and Russia  ...     1\n",
              "14  Re: Yes, There Are Paid Government Trolls On S...  ...     1\n",
              "15  In Major League Soccer, Argentines Find a Home...  ...     0\n",
              "16  Wells Fargo Chief Abruptly Steps Down - The Ne...  ...     0\n",
              "17  Anonymous Donor Pays $2.5 Million To Release E...  ...     1\n",
              "18                          FBI Closes In On Hillary!  ...     1\n",
              "19  Chuck Todd: ’BuzzFeed Did Donald Trump a Polit...  ...     0\n",
              "\n",
              "[20 rows x 3 columns]"
            ]
          },
          "metadata": {
            "tags": []
          },
          "execution_count": 14
        }
      ]
    },
    {
      "cell_type": "code",
      "metadata": {
        "colab": {
          "base_uri": "https://localhost:8080/"
        },
        "id": "4vGFI3Q1mqcg",
        "outputId": "ea9b2f6c-69ad-459a-c5e9-bf4bd425b96b"
      },
      "source": [
        "# Assinging y all the label values (Please conduct after pre-processing is done) \r\n",
        "y =df.label\r\n",
        "y.head()"
      ],
      "execution_count": null,
      "outputs": [
        {
          "output_type": "execute_result",
          "data": {
            "text/plain": [
              "0    1\n",
              "1    0\n",
              "2    1\n",
              "3    1\n",
              "4    1\n",
              "Name: label, dtype: int64"
            ]
          },
          "metadata": {
            "tags": []
          },
          "execution_count": 15
        }
      ]
    },
    {
      "cell_type": "code",
      "metadata": {
        "id": "zKjWTb47R7sp"
      },
      "source": [
        "#Function to join two columns\r\n",
        "def abc(vals):\r\n",
        "  ti, tex = vals\r\n",
        "  y = str(ti) + str(tex)\r\n",
        "  return y"
      ],
      "execution_count": null,
      "outputs": []
    },
    {
      "cell_type": "code",
      "metadata": {
        "id": "-jfzLsOTL4fI"
      },
      "source": [
        "#Joining title and text cloumn and storing it in a new cloumn \"combo\"\r\n",
        "df['combo']=df[['title','text']].apply(abc, axis =1 )"
      ],
      "execution_count": null,
      "outputs": []
    },
    {
      "cell_type": "code",
      "metadata": {
        "colab": {
          "base_uri": "https://localhost:8080/",
          "height": 425
        },
        "id": "E2-o8xbYlrxO",
        "outputId": "798ca578-a5df-4df7-c3e5-1caf492e5f3e"
      },
      "source": [
        "df"
      ],
      "execution_count": null,
      "outputs": [
        {
          "output_type": "execute_result",
          "data": {
            "text/html": [
              "<div>\n",
              "<style scoped>\n",
              "    .dataframe tbody tr th:only-of-type {\n",
              "        vertical-align: middle;\n",
              "    }\n",
              "\n",
              "    .dataframe tbody tr th {\n",
              "        vertical-align: top;\n",
              "    }\n",
              "\n",
              "    .dataframe thead th {\n",
              "        text-align: right;\n",
              "    }\n",
              "</style>\n",
              "<table border=\"1\" class=\"dataframe\">\n",
              "  <thead>\n",
              "    <tr style=\"text-align: right;\">\n",
              "      <th></th>\n",
              "      <th>title</th>\n",
              "      <th>text</th>\n",
              "      <th>label</th>\n",
              "      <th>combo</th>\n",
              "    </tr>\n",
              "  </thead>\n",
              "  <tbody>\n",
              "    <tr>\n",
              "      <th>0</th>\n",
              "      <td>House Dem Aide: We Didn’t Even See Comey’s Let...</td>\n",
              "      <td>House Dem Aide: We Didn’t Even See Comey’s Let...</td>\n",
              "      <td>1</td>\n",
              "      <td>House Dem Aide: We Didn’t Even See Comey’s Let...</td>\n",
              "    </tr>\n",
              "    <tr>\n",
              "      <th>1</th>\n",
              "      <td>FLYNN: Hillary Clinton, Big Woman on Campus - ...</td>\n",
              "      <td>Ever get the feeling your life circles the rou...</td>\n",
              "      <td>0</td>\n",
              "      <td>FLYNN: Hillary Clinton, Big Woman on Campus - ...</td>\n",
              "    </tr>\n",
              "    <tr>\n",
              "      <th>2</th>\n",
              "      <td>Why the Truth Might Get You Fired</td>\n",
              "      <td>Why the Truth Might Get You Fired October 29, ...</td>\n",
              "      <td>1</td>\n",
              "      <td>Why the Truth Might Get You FiredWhy the Truth...</td>\n",
              "    </tr>\n",
              "    <tr>\n",
              "      <th>3</th>\n",
              "      <td>15 Civilians Killed In Single US Airstrike Hav...</td>\n",
              "      <td>Videos 15 Civilians Killed In Single US Airstr...</td>\n",
              "      <td>1</td>\n",
              "      <td>15 Civilians Killed In Single US Airstrike Hav...</td>\n",
              "    </tr>\n",
              "    <tr>\n",
              "      <th>4</th>\n",
              "      <td>Iranian woman jailed for fictional unpublished...</td>\n",
              "      <td>Print \\nAn Iranian woman has been sentenced to...</td>\n",
              "      <td>1</td>\n",
              "      <td>Iranian woman jailed for fictional unpublished...</td>\n",
              "    </tr>\n",
              "    <tr>\n",
              "      <th>...</th>\n",
              "      <td>...</td>\n",
              "      <td>...</td>\n",
              "      <td>...</td>\n",
              "      <td>...</td>\n",
              "    </tr>\n",
              "    <tr>\n",
              "      <th>20795</th>\n",
              "      <td>Rapper T.I.: Trump a ’Poster Child For White S...</td>\n",
              "      <td>Rapper T. I. unloaded on black celebrities who...</td>\n",
              "      <td>0</td>\n",
              "      <td>Rapper T.I.: Trump a ’Poster Child For White S...</td>\n",
              "    </tr>\n",
              "    <tr>\n",
              "      <th>20796</th>\n",
              "      <td>N.F.L. Playoffs: Schedule, Matchups and Odds -...</td>\n",
              "      <td>When the Green Bay Packers lost to the Washing...</td>\n",
              "      <td>0</td>\n",
              "      <td>N.F.L. Playoffs: Schedule, Matchups and Odds -...</td>\n",
              "    </tr>\n",
              "    <tr>\n",
              "      <th>20797</th>\n",
              "      <td>Macy’s Is Said to Receive Takeover Approach by...</td>\n",
              "      <td>The Macy’s of today grew from the union of sev...</td>\n",
              "      <td>0</td>\n",
              "      <td>Macy’s Is Said to Receive Takeover Approach by...</td>\n",
              "    </tr>\n",
              "    <tr>\n",
              "      <th>20798</th>\n",
              "      <td>NATO, Russia To Hold Parallel Exercises In Bal...</td>\n",
              "      <td>NATO, Russia To Hold Parallel Exercises In Bal...</td>\n",
              "      <td>1</td>\n",
              "      <td>NATO, Russia To Hold Parallel Exercises In Bal...</td>\n",
              "    </tr>\n",
              "    <tr>\n",
              "      <th>20799</th>\n",
              "      <td>What Keeps the F-35 Alive</td>\n",
              "      <td>David Swanson is an author, activist, journa...</td>\n",
              "      <td>1</td>\n",
              "      <td>What Keeps the F-35 Alive  David Swanson is an...</td>\n",
              "    </tr>\n",
              "  </tbody>\n",
              "</table>\n",
              "<p>20761 rows × 4 columns</p>\n",
              "</div>"
            ],
            "text/plain": [
              "                                                   title  ...                                              combo\n",
              "0      House Dem Aide: We Didn’t Even See Comey’s Let...  ...  House Dem Aide: We Didn’t Even See Comey’s Let...\n",
              "1      FLYNN: Hillary Clinton, Big Woman on Campus - ...  ...  FLYNN: Hillary Clinton, Big Woman on Campus - ...\n",
              "2                      Why the Truth Might Get You Fired  ...  Why the Truth Might Get You FiredWhy the Truth...\n",
              "3      15 Civilians Killed In Single US Airstrike Hav...  ...  15 Civilians Killed In Single US Airstrike Hav...\n",
              "4      Iranian woman jailed for fictional unpublished...  ...  Iranian woman jailed for fictional unpublished...\n",
              "...                                                  ...  ...                                                ...\n",
              "20795  Rapper T.I.: Trump a ’Poster Child For White S...  ...  Rapper T.I.: Trump a ’Poster Child For White S...\n",
              "20796  N.F.L. Playoffs: Schedule, Matchups and Odds -...  ...  N.F.L. Playoffs: Schedule, Matchups and Odds -...\n",
              "20797  Macy’s Is Said to Receive Takeover Approach by...  ...  Macy’s Is Said to Receive Takeover Approach by...\n",
              "20798  NATO, Russia To Hold Parallel Exercises In Bal...  ...  NATO, Russia To Hold Parallel Exercises In Bal...\n",
              "20799                          What Keeps the F-35 Alive  ...  What Keeps the F-35 Alive  David Swanson is an...\n",
              "\n",
              "[20761 rows x 4 columns]"
            ]
          },
          "metadata": {
            "tags": []
          },
          "execution_count": 18
        }
      ]
    },
    {
      "cell_type": "code",
      "metadata": {
        "colab": {
          "base_uri": "https://localhost:8080/",
          "height": 145
        },
        "id": "92g6fsnnQWjv",
        "outputId": "7596f35f-aeb5-4d03-b402-d828abad07ae"
      },
      "source": [
        "#Checking one value in the combo column\r\n",
        "df['combo'][0]"
      ],
      "execution_count": null,
      "outputs": [
        {
          "output_type": "execute_result",
          "data": {
            "application/vnd.google.colaboratory.intrinsic+json": {
              "type": "string"
            },
            "text/plain": [
              "'House Dem Aide: We Didn’t Even See Comey’s Letter Until Jason Chaffetz Tweeted ItHouse Dem Aide: We Didn’t Even See Comey’s Letter Until Jason Chaffetz Tweeted It By Darrell Lucus on October 30, 2016 Subscribe Jason Chaffetz on the stump in American Fork, Utah ( image courtesy Michael Jolley, available under a Creative Commons-BY license) \\nWith apologies to Keith Olbermann, there is no doubt who the Worst Person in The World is this week–FBI Director James Comey. But according to a House Democratic aide, it looks like we also know who the second-worst person is as well. It turns out that when Comey sent his now-infamous letter announcing that the FBI was looking into emails that may be related to Hillary Clinton’s email server, the ranking Democrats on the relevant committees didn’t hear about it from Comey. They found out via a tweet from one of the Republican committee chairmen. \\nAs we now know, Comey notified the Republican chairmen and Democratic ranking members of the House Intelligence, Judiciary, and Oversight committees that his agency was reviewing emails it had recently discovered in order to see if they contained classified information. Not long after this letter went out, Oversight Committee Chairman Jason Chaffetz set the political world ablaze with this tweet. FBI Dir just informed me, \"The FBI has learned of the existence of emails that appear to be pertinent to the investigation.\" Case reopened \\n— Jason Chaffetz (@jasoninthehouse) October 28, 2016 \\nOf course, we now know that this was not the case . Comey was actually saying that it was reviewing the emails in light of “an unrelated case”–which we now know to be Anthony Weiner’s sexting with a teenager. But apparently such little things as facts didn’t matter to Chaffetz. The Utah Republican had already vowed to initiate a raft of investigations if Hillary wins–at least two years’ worth, and possibly an entire term’s worth of them. Apparently Chaffetz thought the FBI was already doing his work for him–resulting in a tweet that briefly roiled the nation before cooler heads realized it was a dud. \\nBut according to a senior House Democratic aide, misreading that letter may have been the least of Chaffetz’ sins. That aide told Shareblue that his boss and other Democrats didn’t even know about Comey’s letter at the time–and only found out when they checked Twitter. “Democratic Ranking Members on the relevant committees didn’t receive Comey’s letter until after the Republican Chairmen. In fact, the Democratic Ranking Members didn’ receive it until after the Chairman of the Oversight and Government Reform Committee, Jason Chaffetz, tweeted it out and made it public.” \\nSo let’s see if we’ve got this right. The FBI director tells Chaffetz and other GOP committee chairmen about a major development in a potentially politically explosive investigation, and neither Chaffetz nor his other colleagues had the courtesy to let their Democratic counterparts know about it. Instead, according to this aide, he made them find out about it on Twitter. \\nThere has already been talk on Daily Kos that Comey himself provided advance notice of this letter to Chaffetz and other Republicans, giving them time to turn on the spin machine. That may make for good theater, but there is nothing so far that even suggests this is the case. After all, there is nothing so far that suggests that Comey was anything other than grossly incompetent and tone-deaf. \\nWhat it does suggest, however, is that Chaffetz is acting in a way that makes Dan Burton and Darrell Issa look like models of responsibility and bipartisanship. He didn’t even have the decency to notify ranking member Elijah Cummings about something this explosive. If that doesn’t trample on basic standards of fairness, I don’t know what does. \\nGranted, it’s not likely that Chaffetz will have to answer for this. He sits in a ridiculously Republican district anchored in Provo and Orem; it has a Cook Partisan Voting Index of R+25, and gave Mitt Romney a punishing 78 percent of the vote in 2012. Moreover, the Republican House leadership has given its full support to Chaffetz’ planned fishing expedition. But that doesn’t mean we can’t turn the hot lights on him. After all, he is a textbook example of what the House has become under Republican control. And he is also the Second Worst Person in the World. About Darrell Lucus \\nDarrell is a 30-something graduate of the University of North Carolina who considers himself a journalist of the old school. An attempt to turn him into a member of the religious right in college only succeeded in turning him into the religious right\\'s worst nightmare--a charismatic Christian who is an unapologetic liberal. His desire to stand up for those who have been scared into silence only increased when he survived an abusive three-year marriage. You may know him on Daily Kos as Christian Dem in NC . Follow him on Twitter @DarrellLucus or connect with him on Facebook . Click here to buy Darrell a Mello Yello. Connect'"
            ]
          },
          "metadata": {
            "tags": []
          },
          "execution_count": 19
        }
      ]
    },
    {
      "cell_type": "code",
      "metadata": {
        "id": "Qe5pS1S3SudN"
      },
      "source": [
        "#Updating df to just contain 'Combo'\r\n",
        "df = df['combo']"
      ],
      "execution_count": null,
      "outputs": []
    },
    {
      "cell_type": "code",
      "metadata": {
        "colab": {
          "base_uri": "https://localhost:8080/"
        },
        "id": "wr2Kl_J8l5Oq",
        "outputId": "7be00d03-ef6f-4d8b-d942-4f0208691062"
      },
      "source": [
        "df"
      ],
      "execution_count": null,
      "outputs": [
        {
          "output_type": "execute_result",
          "data": {
            "text/plain": [
              "0        House Dem Aide: We Didn’t Even See Comey’s Let...\n",
              "1        FLYNN: Hillary Clinton, Big Woman on Campus - ...\n",
              "2        Why the Truth Might Get You FiredWhy the Truth...\n",
              "3        15 Civilians Killed In Single US Airstrike Hav...\n",
              "4        Iranian woman jailed for fictional unpublished...\n",
              "                               ...                        \n",
              "20795    Rapper T.I.: Trump a ’Poster Child For White S...\n",
              "20796    N.F.L. Playoffs: Schedule, Matchups and Odds -...\n",
              "20797    Macy’s Is Said to Receive Takeover Approach by...\n",
              "20798    NATO, Russia To Hold Parallel Exercises In Bal...\n",
              "20799    What Keeps the F-35 Alive  David Swanson is an...\n",
              "Name: combo, Length: 20761, dtype: object"
            ]
          },
          "metadata": {
            "tags": []
          },
          "execution_count": 21
        }
      ]
    },
    {
      "cell_type": "markdown",
      "metadata": {
        "id": "BpfMKY2hYEt5"
      },
      "source": [
        "Splitting the data"
      ]
    },
    {
      "cell_type": "code",
      "metadata": {
        "id": "zLA_EK64m2Rw"
      },
      "source": [
        "x_train,x_test,y_train,y_test = train_test_split(df, y, test_size=0.2)"
      ],
      "execution_count": null,
      "outputs": []
    },
    {
      "cell_type": "markdown",
      "metadata": {
        "id": "vDxFxCtjYOhm"
      },
      "source": [
        "TF-IDF Vectorization"
      ]
    },
    {
      "cell_type": "code",
      "metadata": {
        "id": "W7M1-I2pnDBI"
      },
      "source": [
        "#Initializing the vectorizer\r\n",
        "tfidf_vectorizer = TfidfVectorizer(stop_words='english')"
      ],
      "execution_count": null,
      "outputs": []
    },
    {
      "cell_type": "code",
      "metadata": {
        "id": "WYgTlcdlnW7A"
      },
      "source": [
        "#Using the vectorizer to vectorize train and test data\r\n",
        "tfidf_train = tfidf_vectorizer.fit_transform(x_train) \r\n",
        "tfidf_test = tfidf_vectorizer.transform(x_test)"
      ],
      "execution_count": null,
      "outputs": []
    },
    {
      "cell_type": "markdown",
      "metadata": {
        "id": "VMnsOoSOYiNt"
      },
      "source": [
        "Passive aggressive classifier"
      ]
    },
    {
      "cell_type": "code",
      "metadata": {
        "colab": {
          "base_uri": "https://localhost:8080/"
        },
        "id": "L3ws8NkinfFn",
        "outputId": "cca68fe5-b451-4c9d-b1a4-3950a447144c"
      },
      "source": [
        "#Training the model with train data\r\n",
        "pac = PassiveAggressiveClassifier(max_iter=50)\r\n",
        "pac.fit(tfidf_train,y_train)"
      ],
      "execution_count": null,
      "outputs": [
        {
          "output_type": "execute_result",
          "data": {
            "text/plain": [
              "PassiveAggressiveClassifier(C=1.0, average=False, class_weight=None,\n",
              "                            early_stopping=False, fit_intercept=True,\n",
              "                            loss='hinge', max_iter=50, n_iter_no_change=5,\n",
              "                            n_jobs=None, random_state=None, shuffle=True,\n",
              "                            tol=0.001, validation_fraction=0.1, verbose=0,\n",
              "                            warm_start=False)"
            ]
          },
          "metadata": {
            "tags": []
          },
          "execution_count": 25
        }
      ]
    },
    {
      "cell_type": "markdown",
      "metadata": {
        "id": "DRew7DteYztw"
      },
      "source": [
        "Testing the model accuracy"
      ]
    },
    {
      "cell_type": "code",
      "metadata": {
        "colab": {
          "base_uri": "https://localhost:8080/"
        },
        "id": "bb73x-lqn1L2",
        "outputId": "98e8b653-4c06-4e03-9f8a-5737422faa01"
      },
      "source": [
        "y_pred = pac.predict(tfidf_test)\r\n",
        "score = accuracy_score(y_test,y_pred)\r\n",
        "print(f'Accuracy: {round(score*100,2)}%')\r\n"
      ],
      "execution_count": null,
      "outputs": [
        {
          "output_type": "stream",
          "text": [
            "Accuracy: 96.73%\n"
          ],
          "name": "stdout"
        }
      ]
    },
    {
      "cell_type": "code",
      "metadata": {
        "id": "zhNawTpzoJA_"
      },
      "source": [
        ""
      ],
      "execution_count": null,
      "outputs": []
    }
  ]
}